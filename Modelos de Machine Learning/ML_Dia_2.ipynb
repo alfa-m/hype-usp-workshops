{
  "nbformat": 4,
  "nbformat_minor": 0,
  "metadata": {
    "colab": {
      "provenance": [],
      "collapsed_sections": []
    },
    "kernelspec": {
      "name": "python3",
      "display_name": "Python 3"
    },
    "language_info": {
      "name": "python"
    }
  },
  "cells": [
    {
      "cell_type": "markdown",
      "source": [
        "# Captura dos dados"
      ],
      "metadata": {
        "id": "1VfYK4AjJt5t"
      }
    },
    {
      "cell_type": "code",
      "source": [
        "from sklearn.datasets import load_wine, load_diabetes\n",
        "from sklearn.neighbors import KNeighborsClassifier\n",
        "from sklearn.linear_model import LinearRegression, LogisticRegression\n",
        "from sklearn.metrics import classification_report, f1_score, r2_score\n",
        "from sklearn.model_selection import cross_validate, train_test_split"
      ],
      "metadata": {
        "id": "6nZonF7nL_tg"
      },
      "execution_count": 3,
      "outputs": []
    },
    {
      "cell_type": "code",
      "source": [
        "data = load_wine()\n",
        "X = data['data']\n",
        "y = data['target']\n",
        "\n",
        "# Separação dos dados\n",
        "X_train, X_test, y_train, y_test = train_test_split(\n",
        "    X, y, test_size=0.3, random_state=42)"
      ],
      "metadata": {
        "id": "IYjKQmLpJxKm"
      },
      "execution_count": null,
      "outputs": []
    },
    {
      "cell_type": "markdown",
      "source": [
        "# KNN"
      ],
      "metadata": {
        "id": "Zun3QezSJSst"
      }
    },
    {
      "cell_type": "code",
      "execution_count": null,
      "metadata": {
        "colab": {
          "base_uri": "https://localhost:8080/"
        },
        "id": "dYXoHgOrJNty",
        "outputId": "5b0b206f-52e6-4533-a4d1-7543020075de"
      },
      "outputs": [
        {
          "output_type": "stream",
          "name": "stdout",
          "text": [
            "K: 1 | Train F1: 1.0 | Validation F1: 0.7241234691234691\n",
            "Test: 0.7880952380952381\n",
            "\n",
            "K: 3 | Train F1: 0.8279918786411427 | Validation F1: 0.6501226551226551\n",
            "Test: 0.7260560990364894\n",
            "\n",
            "K: 5 | Train F1: 0.7764584044308321 | Validation F1: 0.6317978317978318\n",
            "Test: 0.7260560990364894\n",
            "\n",
            "K: 7 | Train F1: 0.7748408406098384 | Validation F1: 0.6527946127946128\n",
            "Test: 0.747008547008547\n",
            "\n",
            "K: 9 | Train F1: 0.7390964509328753 | Validation F1: 0.6823665223665224\n",
            "Test: 0.7115740740740741\n",
            "\n",
            "K: 15 | Train F1: 0.711169974640615 | Validation F1: 0.6910365560365561\n",
            "Test: 0.7464048873216954\n",
            "\n"
          ]
        }
      ],
      "source": [
        "# Validação cruzada com os dados de treino\n",
        "k_list = [1,3,5,7,9,15]\n",
        "\n",
        "for k in k_list:\n",
        "  knn_results = cross_validate(KNeighborsClassifier(n_neighbors=k), \n",
        "                              X_train, \n",
        "                              y_train, \n",
        "                              cv=10, \n",
        "                              scoring=['f1_macro'], \n",
        "                              return_train_score=True)\n",
        "  print(\"K:\", \n",
        "        k, \n",
        "        \"| Train F1:\", \n",
        "        knn_results['train_f1_macro'].mean(),\n",
        "        \"| Validation F1:\", \n",
        "        knn_results['test_f1_macro'].mean()\n",
        "  )\n",
        "\n",
        "  # Test\n",
        "  clf = KNeighborsClassifier(n_neighbors=k) # melhor k do cross validation aqui\n",
        "  clf.fit(X_train, y_train)\n",
        "  y_pred = clf.predict(X_test)\n",
        "  print(\"Test:\", f1_score(y_test, y_pred, average='macro'))\n",
        "  print()"
      ]
    },
    {
      "cell_type": "markdown",
      "source": [
        "# Naive Bayes"
      ],
      "metadata": {
        "id": "YibNxpjxJU3q"
      }
    },
    {
      "cell_type": "markdown",
      "source": [
        "## Multinomial"
      ],
      "metadata": {
        "id": "pxlQnAfLxRYr"
      }
    },
    {
      "cell_type": "code",
      "source": [
        "import pandas as pd\n",
        "data = pd.DataFrame({\n",
        "    \"Dinheiro\": [2,1,0,0,0,1],\n",
        "    \"Convite\": [0,1,0,2,1,1],\n",
        "    \"Amigo\": [0,2,2,0,2,0],\n",
        "    \"Parabéns\": [1,0,1,1,0,0],\n",
        "    \"classe\": [\"Spam\", \"Spam\", \"Spam\", \"Não Spam\", \"Não Spam\", \"Não Spam\"]\n",
        "})\n",
        "data"
      ],
      "metadata": {
        "id": "KHsuHiLgJcS_",
        "colab": {
          "base_uri": "https://localhost:8080/",
          "height": 238
        },
        "outputId": "68bc7a13-5580-4e39-ae66-6480795ca177"
      },
      "execution_count": null,
      "outputs": [
        {
          "output_type": "execute_result",
          "data": {
            "text/plain": [
              "   Dinheiro  Convite  Amigo  Parabéns    classe\n",
              "0         2        0      0         1      Spam\n",
              "1         1        1      2         0      Spam\n",
              "2         0        0      2         1      Spam\n",
              "3         0        2      0         1  Não Spam\n",
              "4         0        1      2         0  Não Spam\n",
              "5         1        1      0         0  Não Spam"
            ],
            "text/html": [
              "\n",
              "  <div id=\"df-077be397-c72f-4d87-9184-a91d0033ba4c\">\n",
              "    <div class=\"colab-df-container\">\n",
              "      <div>\n",
              "<style scoped>\n",
              "    .dataframe tbody tr th:only-of-type {\n",
              "        vertical-align: middle;\n",
              "    }\n",
              "\n",
              "    .dataframe tbody tr th {\n",
              "        vertical-align: top;\n",
              "    }\n",
              "\n",
              "    .dataframe thead th {\n",
              "        text-align: right;\n",
              "    }\n",
              "</style>\n",
              "<table border=\"1\" class=\"dataframe\">\n",
              "  <thead>\n",
              "    <tr style=\"text-align: right;\">\n",
              "      <th></th>\n",
              "      <th>Dinheiro</th>\n",
              "      <th>Convite</th>\n",
              "      <th>Amigo</th>\n",
              "      <th>Parabéns</th>\n",
              "      <th>classe</th>\n",
              "    </tr>\n",
              "  </thead>\n",
              "  <tbody>\n",
              "    <tr>\n",
              "      <th>0</th>\n",
              "      <td>2</td>\n",
              "      <td>0</td>\n",
              "      <td>0</td>\n",
              "      <td>1</td>\n",
              "      <td>Spam</td>\n",
              "    </tr>\n",
              "    <tr>\n",
              "      <th>1</th>\n",
              "      <td>1</td>\n",
              "      <td>1</td>\n",
              "      <td>2</td>\n",
              "      <td>0</td>\n",
              "      <td>Spam</td>\n",
              "    </tr>\n",
              "    <tr>\n",
              "      <th>2</th>\n",
              "      <td>0</td>\n",
              "      <td>0</td>\n",
              "      <td>2</td>\n",
              "      <td>1</td>\n",
              "      <td>Spam</td>\n",
              "    </tr>\n",
              "    <tr>\n",
              "      <th>3</th>\n",
              "      <td>0</td>\n",
              "      <td>2</td>\n",
              "      <td>0</td>\n",
              "      <td>1</td>\n",
              "      <td>Não Spam</td>\n",
              "    </tr>\n",
              "    <tr>\n",
              "      <th>4</th>\n",
              "      <td>0</td>\n",
              "      <td>1</td>\n",
              "      <td>2</td>\n",
              "      <td>0</td>\n",
              "      <td>Não Spam</td>\n",
              "    </tr>\n",
              "    <tr>\n",
              "      <th>5</th>\n",
              "      <td>1</td>\n",
              "      <td>1</td>\n",
              "      <td>0</td>\n",
              "      <td>0</td>\n",
              "      <td>Não Spam</td>\n",
              "    </tr>\n",
              "  </tbody>\n",
              "</table>\n",
              "</div>\n",
              "      <button class=\"colab-df-convert\" onclick=\"convertToInteractive('df-077be397-c72f-4d87-9184-a91d0033ba4c')\"\n",
              "              title=\"Convert this dataframe to an interactive table.\"\n",
              "              style=\"display:none;\">\n",
              "        \n",
              "  <svg xmlns=\"http://www.w3.org/2000/svg\" height=\"24px\"viewBox=\"0 0 24 24\"\n",
              "       width=\"24px\">\n",
              "    <path d=\"M0 0h24v24H0V0z\" fill=\"none\"/>\n",
              "    <path d=\"M18.56 5.44l.94 2.06.94-2.06 2.06-.94-2.06-.94-.94-2.06-.94 2.06-2.06.94zm-11 1L8.5 8.5l.94-2.06 2.06-.94-2.06-.94L8.5 2.5l-.94 2.06-2.06.94zm10 10l.94 2.06.94-2.06 2.06-.94-2.06-.94-.94-2.06-.94 2.06-2.06.94z\"/><path d=\"M17.41 7.96l-1.37-1.37c-.4-.4-.92-.59-1.43-.59-.52 0-1.04.2-1.43.59L10.3 9.45l-7.72 7.72c-.78.78-.78 2.05 0 2.83L4 21.41c.39.39.9.59 1.41.59.51 0 1.02-.2 1.41-.59l7.78-7.78 2.81-2.81c.8-.78.8-2.07 0-2.86zM5.41 20L4 18.59l7.72-7.72 1.47 1.35L5.41 20z\"/>\n",
              "  </svg>\n",
              "      </button>\n",
              "      \n",
              "  <style>\n",
              "    .colab-df-container {\n",
              "      display:flex;\n",
              "      flex-wrap:wrap;\n",
              "      gap: 12px;\n",
              "    }\n",
              "\n",
              "    .colab-df-convert {\n",
              "      background-color: #E8F0FE;\n",
              "      border: none;\n",
              "      border-radius: 50%;\n",
              "      cursor: pointer;\n",
              "      display: none;\n",
              "      fill: #1967D2;\n",
              "      height: 32px;\n",
              "      padding: 0 0 0 0;\n",
              "      width: 32px;\n",
              "    }\n",
              "\n",
              "    .colab-df-convert:hover {\n",
              "      background-color: #E2EBFA;\n",
              "      box-shadow: 0px 1px 2px rgba(60, 64, 67, 0.3), 0px 1px 3px 1px rgba(60, 64, 67, 0.15);\n",
              "      fill: #174EA6;\n",
              "    }\n",
              "\n",
              "    [theme=dark] .colab-df-convert {\n",
              "      background-color: #3B4455;\n",
              "      fill: #D2E3FC;\n",
              "    }\n",
              "\n",
              "    [theme=dark] .colab-df-convert:hover {\n",
              "      background-color: #434B5C;\n",
              "      box-shadow: 0px 1px 3px 1px rgba(0, 0, 0, 0.15);\n",
              "      filter: drop-shadow(0px 1px 2px rgba(0, 0, 0, 0.3));\n",
              "      fill: #FFFFFF;\n",
              "    }\n",
              "  </style>\n",
              "\n",
              "      <script>\n",
              "        const buttonEl =\n",
              "          document.querySelector('#df-077be397-c72f-4d87-9184-a91d0033ba4c button.colab-df-convert');\n",
              "        buttonEl.style.display =\n",
              "          google.colab.kernel.accessAllowed ? 'block' : 'none';\n",
              "\n",
              "        async function convertToInteractive(key) {\n",
              "          const element = document.querySelector('#df-077be397-c72f-4d87-9184-a91d0033ba4c');\n",
              "          const dataTable =\n",
              "            await google.colab.kernel.invokeFunction('convertToInteractive',\n",
              "                                                     [key], {});\n",
              "          if (!dataTable) return;\n",
              "\n",
              "          const docLinkHtml = 'Like what you see? Visit the ' +\n",
              "            '<a target=\"_blank\" href=https://colab.research.google.com/notebooks/data_table.ipynb>data table notebook</a>'\n",
              "            + ' to learn more about interactive tables.';\n",
              "          element.innerHTML = '';\n",
              "          dataTable['output_type'] = 'display_data';\n",
              "          await google.colab.output.renderOutput(dataTable, element);\n",
              "          const docLink = document.createElement('div');\n",
              "          docLink.innerHTML = docLinkHtml;\n",
              "          element.appendChild(docLink);\n",
              "        }\n",
              "      </script>\n",
              "    </div>\n",
              "  </div>\n",
              "  "
            ]
          },
          "metadata": {},
          "execution_count": 1
        }
      ]
    },
    {
      "cell_type": "code",
      "source": [
        "X = data[[\"Dinheiro\", \"Convite\", \"Amigo\", \"Parabéns\"]]\n",
        "y = data[\"classe\"]"
      ],
      "metadata": {
        "id": "jhJrCXaGuMGk"
      },
      "execution_count": null,
      "outputs": []
    },
    {
      "cell_type": "code",
      "source": [
        "from sklearn.naive_bayes import MultinomialNB\n",
        "\n",
        "clf = MultinomialNB(alpha=1)\n",
        "clf.fit(X, y)"
      ],
      "metadata": {
        "colab": {
          "base_uri": "https://localhost:8080/"
        },
        "id": "h41ykrb2ucoh",
        "outputId": "7d374522-6872-4ef5-831e-d5eb5d8e4528"
      },
      "execution_count": null,
      "outputs": [
        {
          "output_type": "execute_result",
          "data": {
            "text/plain": [
              "MultinomialNB(alpha=1)"
            ]
          },
          "metadata": {},
          "execution_count": 3
        }
      ]
    },
    {
      "cell_type": "code",
      "source": [
        "y_test = pd.DataFrame({\n",
        "    \"Dinheiro\": [1],\n",
        "    \"Convite\": [1],\n",
        "    \"Amigo\": [0],\n",
        "    \"Parabéns\": [0],\n",
        "})\n",
        "\n",
        "clf.predict(y_test)"
      ],
      "metadata": {
        "colab": {
          "base_uri": "https://localhost:8080/"
        },
        "id": "u9Ac8c_yuzKF",
        "outputId": "45340080-81e7-4fe9-8d81-0c7172103336"
      },
      "execution_count": null,
      "outputs": [
        {
          "output_type": "execute_result",
          "data": {
            "text/plain": [
              "array(['Não Spam'], dtype='<U8')"
            ]
          },
          "metadata": {},
          "execution_count": 16
        }
      ]
    },
    {
      "cell_type": "markdown",
      "source": [
        "## Gaussian"
      ],
      "metadata": {
        "id": "oEjx5scDwKv_"
      }
    },
    {
      "cell_type": "code",
      "source": [
        "from sklearn.preprocessing import StandardScaler\n",
        "\n",
        "scaler = StandardScaler()\n",
        "\n",
        "data = load_wine()\n",
        "X = scaler.fit_transform(data['data'])\n",
        "y = data['target']\n",
        "\n",
        "# Separação dos dados\n",
        "X_train, X_test, y_train, y_test = train_test_split(\n",
        "    X, y, test_size=0.3, random_state=42)"
      ],
      "metadata": {
        "id": "sK0toiSFv6WV"
      },
      "execution_count": null,
      "outputs": []
    },
    {
      "cell_type": "code",
      "source": [
        "from sklearn.naive_bayes import GaussianNB\n",
        "\n",
        "cv_results = cross_validate(GaussianNB(), \n",
        "                            X_train, \n",
        "                            y_train, \n",
        "                            cv=10, \n",
        "                            scoring=['f1_macro'], \n",
        "                            return_train_score=True)\n",
        "\n",
        "print(\"| Train f1_macro:\", \n",
        "      cv_results['train_f1_macro'].mean(),\n",
        "      \"| Validation f1_macro:\", \n",
        "      cv_results['test_f1_macro'].mean()\n",
        ")\n",
        "\n",
        "clf = GaussianNB()\n",
        "clf.fit(X_train, y_train)\n",
        "y_pred = clf.predict(X_test)\n",
        "print(\"Test:\",  f1_score(y_test, y_pred, average='macro'))\n",
        "print()"
      ],
      "metadata": {
        "colab": {
          "base_uri": "https://localhost:8080/"
        },
        "id": "2pllcISlweXG",
        "outputId": "3c9b79c3-b218-495d-ac5f-16899979f169"
      },
      "execution_count": null,
      "outputs": [
        {
          "output_type": "stream",
          "name": "stdout",
          "text": [
            "| Train f1_macro: 0.9774366517727371 | Validation f1_macro: 0.9608850408850408\n",
            "Test: 1.0\n",
            "\n"
          ]
        }
      ]
    },
    {
      "cell_type": "markdown",
      "source": [
        "# Regressão Linear\n",
        "\n",
        "Usando o dataset [diabetes](https://scikit-learn.org/stable/datasets/toy_dataset.html#diabetes-dataset)"
      ],
      "metadata": {
        "id": "cBKHz44ZJXtZ"
      }
    },
    {
      "cell_type": "code",
      "source": [
        "data = load_diabetes()\n",
        "X = data['data']\n",
        "y = data['target']\n",
        "\n",
        "X_train, X_test, y_train, y_test = train_test_split(\n",
        "    X, y, test_size=0.3, random_state=42)"
      ],
      "metadata": {
        "id": "jNPomAoEJb2l"
      },
      "execution_count": null,
      "outputs": []
    },
    {
      "cell_type": "code",
      "source": [
        "# import sklearn\n",
        "# sorted(sklearn.metrics.SCORERS.keys())"
      ],
      "metadata": {
        "id": "69M1Epjd3Pju"
      },
      "execution_count": null,
      "outputs": []
    },
    {
      "cell_type": "code",
      "source": [
        "cv_results = cross_validate(LinearRegression(), \n",
        "                            X_train, \n",
        "                            y_train, \n",
        "                            cv=10, \n",
        "                            scoring=['r2', 'neg_mean_squared_error'], \n",
        "                            return_train_score=True)\n",
        "\n",
        "print(\"| Train R2:\", \n",
        "      cv_results['train_r2'].mean(),\n",
        "      \"| Validation R2:\", \n",
        "      cv_results['test_r2'].mean()\n",
        ")\n",
        "\n",
        "regressor = LinearRegression()\n",
        "regressor.fit(X_train, y_train)\n",
        "y_pred = regressor.predict(X_test)\n",
        "print(\"Test:\", r2_score(y_test, y_pred))\n",
        "print()"
      ],
      "metadata": {
        "colab": {
          "base_uri": "https://localhost:8080/"
        },
        "id": "PF0JLZ8IyMsW",
        "outputId": "d9d582e2-6858-4e3a-ebcf-9a5802821132"
      },
      "execution_count": null,
      "outputs": [
        {
          "output_type": "stream",
          "name": "stdout",
          "text": [
            "| Train R2: 0.525808388286437 | Validation R2: 0.39925729042152164\n",
            "Test: 0.4772920174157329\n",
            "\n"
          ]
        }
      ]
    },
    {
      "cell_type": "markdown",
      "source": [
        "# Regressão Logística"
      ],
      "metadata": {
        "id": "VMx-20wwJZS5"
      }
    },
    {
      "cell_type": "code",
      "source": [
        "data = load_wine()\n",
        "X = data['data']\n",
        "y = data['target']\n",
        "\n",
        "# Separação dos dados\n",
        "X_train, X_test, y_train, y_test = train_test_split(\n",
        "    X, y, test_size=0.3, random_state=42)"
      ],
      "metadata": {
        "id": "3UMM0MdAJbb8"
      },
      "execution_count": 2,
      "outputs": []
    },
    {
      "cell_type": "code",
      "source": [
        "# Validação cruzada com os dados de treino\n",
        "penalties = ['none', 'l2']\n",
        "\n",
        "for penalty in penalties:\n",
        "  lr_results = cross_validate(LogisticRegression(solver='newton-cg', penalty=penalty), \n",
        "                              X_train, \n",
        "                              y_train, \n",
        "                              cv=10, \n",
        "                              scoring=['f1_macro'], \n",
        "                              return_train_score=True)\n",
        "  print(\"penalty:\", \n",
        "        penalty, \n",
        "        \"| Train F1:\", \n",
        "        lr_results['train_f1_macro'].mean(),\n",
        "        \"| Validation F1:\", \n",
        "        lr_results['test_f1_macro'].mean()\n",
        "  )"
      ],
      "metadata": {
        "colab": {
          "base_uri": "https://localhost:8080/"
        },
        "id": "NbHzVpIlCfbt",
        "outputId": "8412f94b-b96a-4d8e-8264-dedb0e49215c"
      },
      "execution_count": 6,
      "outputs": [
        {
          "output_type": "stream",
          "name": "stdout",
          "text": [
            "penalty: none | Train F1: 1.0 | Validation F1: 0.9142159692159693\n",
            "penalty: l2 | Train F1: 0.9933137285249961 | Validation F1: 0.9341125541125541\n"
          ]
        }
      ]
    },
    {
      "cell_type": "code",
      "source": [
        "# Test\n",
        "clf = LogisticRegression(solver='newton-cg', penalty='l2')\n",
        "clf.fit(X_train, y_train)\n",
        "y_pred = clf.predict(X_test)\n",
        "print(\"Test:\", f1_score(y_test, y_pred, average='macro'))\n",
        "print()"
      ],
      "metadata": {
        "colab": {
          "base_uri": "https://localhost:8080/"
        },
        "id": "h3Xr7c2zDP-y",
        "outputId": "a71cc8b0-c0b7-4a0f-a4db-c585276f7ad2"
      },
      "execution_count": 7,
      "outputs": [
        {
          "output_type": "stream",
          "name": "stdout",
          "text": [
            "Test: 1.0\n",
            "\n"
          ]
        }
      ]
    }
  ]
}